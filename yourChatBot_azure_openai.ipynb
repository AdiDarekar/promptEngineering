{
  "cells": [
    {
      "cell_type": "markdown",
      "metadata": {
        "id": "N-SSaZ34Ejlu"
      },
      "source": [
        "# Learning Objectives\n",
        "\n",
        "Build your own simple chatbot\n"
      ]
    },
    {
      "cell_type": "code",
      "source": [
        "!pip install -q openai==1.23.2"
      ],
      "metadata": {
        "id": "2wOsKNtU-62q",
        "colab": {
          "base_uri": "https://localhost:8080/"
        },
        "outputId": "df0aae12-8b1f-40be-a021-d53f71e9fca2"
      },
      "execution_count": 2,
      "outputs": [
        {
          "output_type": "stream",
          "name": "stdout",
          "text": [
            "\u001b[2K     \u001b[90m━━━━━━━━━━━━━━━━━━━━━━━━━━━━━━━━━━━━━━━━\u001b[0m \u001b[32m311.2/311.2 kB\u001b[0m \u001b[31m1.8 MB/s\u001b[0m eta \u001b[36m0:00:00\u001b[0m\n",
            "\u001b[2K     \u001b[90m━━━━━━━━━━━━━━━━━━━━━━━━━━━━━━━━━━━━━━━━\u001b[0m \u001b[32m75.6/75.6 kB\u001b[0m \u001b[31m3.6 MB/s\u001b[0m eta \u001b[36m0:00:00\u001b[0m\n",
            "\u001b[2K     \u001b[90m━━━━━━━━━━━━━━━━━━━━━━━━━━━━━━━━━━━━━━━━\u001b[0m \u001b[32m77.9/77.9 kB\u001b[0m \u001b[31m3.8 MB/s\u001b[0m eta \u001b[36m0:00:00\u001b[0m\n",
            "\u001b[2K     \u001b[90m━━━━━━━━━━━━━━━━━━━━━━━━━━━━━━━━━━━━━━━━\u001b[0m \u001b[32m58.3/58.3 kB\u001b[0m \u001b[31m4.6 MB/s\u001b[0m eta \u001b[36m0:00:00\u001b[0m\n",
            "\u001b[?25h"
          ]
        }
      ]
    },
    {
      "cell_type": "code",
      "source": [
        "import json\n",
        "import pandas as pd\n",
        "from google.colab import userdata\n",
        "from openai import AzureOpenAI"
      ],
      "metadata": {
        "id": "yR1SrLNG_Mg3"
      },
      "execution_count": 3,
      "outputs": []
    },
    {
      "cell_type": "code",
      "source": [
        "azure_openai_api_key = userdata.get('newName')"
      ],
      "metadata": {
        "id": "U0mCPx5A-7Fs"
      },
      "execution_count": 5,
      "outputs": []
    },
    {
      "cell_type": "code",
      "source": [],
      "metadata": {
        "id": "ZOD2U2zZ5NJ6"
      },
      "execution_count": null,
      "outputs": []
    },
    {
      "cell_type": "markdown",
      "source": [],
      "metadata": {
        "id": "dOsAYIlK91X5"
      }
    },
    {
      "cell_type": "code",
      "source": [
        "client = AzureOpenAI(\n",
        "    api_key=azure_openai_api_key,\n",
        "    api_version=\"2023-05-15\",\n",
        "    azure_endpoint=\"https://yourEndpoint.openai.azure.com/\"\n",
        ")"
      ],
      "metadata": {
        "id": "9Lhj3f2B-7JD"
      },
      "execution_count": 6,
      "outputs": []
    },
    {
      "cell_type": "markdown",
      "source": [
        "## If want to get context from pdf documents, what happens?\n",
        "\n",
        "### Step1. Read .pdf documents\n",
        "### Step2. Extract text from .pdf documents in .txt file\n",
        "### Step3. Create chuncks of data(sentences, length 512 characters) with some overlap(16 characters overlap for example)\n",
        "### Step4. Sentence embedding vectors using HF models\n",
        "### Step5. Store these vectors in your local DB\n",
        "### Step6. Whenever you give userInput ('what is the revenue'), find most similar sentences from vector DB, call these similar sentences as s1, ... s5\n",
        "### context = s1 + s2 + s3 + s4 + s5\n",
        "## now the prompt is:  prompt = context + userInput  "
      ],
      "metadata": {
        "id": "0-68oUDz93bO"
      }
    },
    {
      "cell_type": "code",
      "source": [
        "context = 'Tendulkar took up cricket at the age of eleven, made his Test match debut on \\\n",
        "15 November 1989 against Pakistan in Karachi at the age of sixteen, and went on to represent Mumbai \\\n",
        "domestically and India internationally for over 24 years.[9] In 2002, halfway through his career, Wisden \\\n",
        "ranked him the second-greatest Test batsman of all time, behind Don Bradman, and the second-greatest ODI \\\n",
        "batsman of all time, behind Viv Richards.[10] The same year, Tendulkar was a part of the team that was one \\\n",
        "of the joint-winners of the 2002 ICC Champions Trophy. Later in his career, Tendulkar was part of the \\\n",
        "Indian team that won the 2011 Cricket World Cup, his first win in six World Cup appearances for India.[11] \\\n",
        "He had previously been named \"Player of the Tournament\" at the 2003 World Cup.'"
      ],
      "metadata": {
        "id": "4beKdXWd8o78"
      },
      "execution_count": 25,
      "outputs": []
    },
    {
      "cell_type": "code",
      "source": [
        "model_engine = \"gpt35oaiD\""
      ],
      "metadata": {
        "colab": {
          "base_uri": "https://localhost:8080/"
        },
        "id": "xEYiaZ665Ose",
        "outputId": "3573b122-c1c4-4483-e523-bee4224ba178"
      },
      "execution_count": 19,
      "outputs": [
        {
          "name": "stdout",
          "output_type": "stream",
          "text": [
            "Enter new prompt: love all?\n"
          ]
        }
      ]
    },
    {
      "cell_type": "code",
      "source": [
        "userInput = input('Enter new prompt: ')\n",
        "prompt = \"Context\" + context +  \"Query: \" + userInput\n",
        "\n",
        "response = client.chat.completions.create(\n",
        "    model = model_engine,\n",
        "    messages=[\n",
        "        {\"role\":\"system\", \"content\":\"You are a helpful assistant\"},\n",
        "        {\"role\":\"user\", \"content\": prompt}\n",
        "    ]\n",
        ")\n",
        "\n",
        "answer = response.choices[0].message.content\n",
        "print(answer)"
      ],
      "metadata": {
        "colab": {
          "base_uri": "https://localhost:8080/"
        },
        "id": "bqQzAEAROhzE",
        "outputId": "8a8aa027-1c87-4abf-feec-ac2d4ce0b06a"
      },
      "execution_count": 24,
      "outputs": [
        {
          "output_type": "stream",
          "name": "stdout",
          "text": [
            "Enter new prompt: who is sachin tendulkar?\n",
            "Sachin Tendulkar is a former Indian cricketer who made his debut for India in 1989 at the age of 16 and represented India in international cricket for over 24 years. He is considered to be one of the greatest batsmen in the history of cricket and has several records to his name. He was part of the Indian team that won the 2011 Cricket World Cup and is widely regarded as a national icon in India.\n"
          ]
        }
      ]
    }
  ],
  "metadata": {
    "accelerator": "GPU",
    "colab": {
      "gpuType": "T4",
      "provenance": []
    },
    "kernelspec": {
      "display_name": "Python 3 (ipykernel)",
      "language": "python",
      "name": "python3"
    },
    "language_info": {
      "codemirror_mode": {
        "name": "ipython",
        "version": 3
      },
      "file_extension": ".py",
      "mimetype": "text/x-python",
      "name": "python",
      "nbconvert_exporter": "python",
      "pygments_lexer": "ipython3",
      "version": "3.11.7"
    }
  },
  "nbformat": 4,
  "nbformat_minor": 0
}